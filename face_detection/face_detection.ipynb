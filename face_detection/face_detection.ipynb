{
 "cells": [
  {
   "cell_type": "code",
   "execution_count": 3,
   "metadata": {},
   "outputs": [],
   "source": [
    "import cv2\n",
    "import numpy as np\n",
    "import os\n",
    "from pathlib import Path\n",
    "Path.cwd()\n",
    "change_path = Path('C:/Users/Dustin Baek/Desktop/Jupyter_Notebook/OpenCV/Resources')\n",
    "os.chdir(change_path)"
   ]
  },
  {
   "cell_type": "code",
   "execution_count": 5,
   "metadata": {},
   "outputs": [
    {
     "data": {
      "text/plain": [
       "-1"
      ]
     },
     "execution_count": 5,
     "metadata": {},
     "output_type": "execute_result"
    }
   ],
   "source": [
    "# path = Path(\"opencv_master/data/haarcascade/haarcascade_frontalface_default.xml\")\n",
    "###python file path function이랑은 조금 clash일어나는듯\n",
    "\n",
    "path = \"opencv_master/data/haarcascades/haarcascade_frontalface_default.xml\"\n",
    "faceCascade = cv2.CascadeClassifier(path)\n",
    "img = cv2.imread(\"senpai.jpg\")\n",
    "imgGray = cv2.cvtColor(img, cv2.COLOR_BGR2GRAY)\n",
    "\n",
    "faces = faceCascade.detectMultiScale(imgGray, 1.2,5)\n",
    "#image, scale, minimum neighbours\n",
    "\n",
    "for (x,y,w,h) in faces:\n",
    "    cv2.rectangle(img, (x,y), (x+w, y+h), (0,0,255), 4)\n",
    "\n",
    "cv2.imshow(\"senpai\", img)\n",
    "cv2.imwrite(\"senpai_copy.jpg\", img)\n",
    "cv2.waitKey(0)"
   ]
  },
  {
   "cell_type": "code",
   "execution_count": 6,
   "metadata": {},
   "outputs": [],
   "source": [
    "path = \"opencv_master/data/haarcascades/haarcascade_frontalface_default.xml\"\n",
    "faceCascade = cv2.CascadeClassifier(path)\n",
    "img = cv2.imread(\"kibum.jpg\")\n",
    "imgGray = cv2.cvtColor(img, cv2.COLOR_BGR2GRAY)\n",
    "\n",
    "faces = faceCascade.detectMultiScale(imgGray, 1.1, 1)\n",
    "#image, scale, minimum neighbours\n",
    "# print(imgGray)\n",
    "# imgGray[0,1]\n",
    "\n",
    "# print(faces[0])\n",
    "face_crop=[]\n",
    "for (x,y,w,h) in faces:\n",
    "    cv2.rectangle(img, (x,y), (x+w, y+h), (0,0,255), 4)\n",
    "    face_crop.append(img[y:y+h,x:x+w])\n",
    "\n",
    "for face in face_crop:\n",
    "    cv2.imshow(\"kibum_face_cropped\", face)\n",
    "    cv2.imwrite(\"kibum_face_cropped.jpg\", face)\n",
    "    cv2.waitKey(0)\n",
    "#     if cv2.waitKey(1) == ord['q']:\n",
    "#         break\n",
    "cv2.destroyAllWindows()"
   ]
  },
  {
   "cell_type": "code",
   "execution_count": null,
   "metadata": {},
   "outputs": [],
   "source": []
  }
 ],
 "metadata": {
  "kernelspec": {
   "display_name": "Python 3",
   "language": "python",
   "name": "python3"
  },
  "language_info": {
   "codemirror_mode": {
    "name": "ipython",
    "version": 3
   },
   "file_extension": ".py",
   "mimetype": "text/x-python",
   "name": "python",
   "nbconvert_exporter": "python",
   "pygments_lexer": "ipython3",
   "version": "3.8.5"
  }
 },
 "nbformat": 4,
 "nbformat_minor": 4
}
